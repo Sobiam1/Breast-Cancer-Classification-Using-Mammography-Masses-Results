{
 "cells": [
  {
   "cell_type": "markdown",
   "metadata": {},
   "source": [
    "# Mammographic Mass Classification\n"
   ]
  },
  {
   "cell_type": "code",
   "execution_count": 19,
   "metadata": {},
   "outputs": [],
   "source": [
    "## Mammography is the most effective method for breast cancer screening available today. \n",
    "## The classification of mammographic masses will be based on benign or malignant.\n",
    "## Benign is when the tumor doesn’t invade other tissues whereas malignant does spread\n",
    "## A couple of Classification algorithms will be tested here: \n",
    "## SVM, Logistic Regression, Decision Trees, Random Forest, Naive Bayes, Artificial Neural Network ..\n",
    "##\n",
    "\n",
    "# IMPORT THE NECESSSARY PACKEGES\n",
    "\n",
    "import pandas as pd\n",
    "import numpy as np\n",
    "import matplotlib.pyplot as plt\n",
    "from sklearn import model_selection\n",
    "from sklearn.preprocessing import StandardScaler\n",
    "from sklearn import tree\n",
    "from sklearn import svm\n",
    "from sklearn import linear_model"
   ]
  },
  {
   "cell_type": "code",
   "execution_count": 107,
   "metadata": {},
   "outputs": [
    {
     "data": {
      "text/html": [
       "<div>\n",
       "<style scoped>\n",
       "    .dataframe tbody tr th:only-of-type {\n",
       "        vertical-align: middle;\n",
       "    }\n",
       "\n",
       "    .dataframe tbody tr th {\n",
       "        vertical-align: top;\n",
       "    }\n",
       "\n",
       "    .dataframe thead th {\n",
       "        text-align: right;\n",
       "    }\n",
       "</style>\n",
       "<table border=\"1\" class=\"dataframe\">\n",
       "  <thead>\n",
       "    <tr style=\"text-align: right;\">\n",
       "      <th></th>\n",
       "      <th>Age</th>\n",
       "      <th>Shape</th>\n",
       "      <th>Margin</th>\n",
       "      <th>Density</th>\n",
       "      <th>Severity</th>\n",
       "    </tr>\n",
       "  </thead>\n",
       "  <tbody>\n",
       "    <tr>\n",
       "      <th>0</th>\n",
       "      <td>67.0</td>\n",
       "      <td>3.0</td>\n",
       "      <td>5.0</td>\n",
       "      <td>3.0</td>\n",
       "      <td>1</td>\n",
       "    </tr>\n",
       "    <tr>\n",
       "      <th>1</th>\n",
       "      <td>43.0</td>\n",
       "      <td>1.0</td>\n",
       "      <td>1.0</td>\n",
       "      <td>NaN</td>\n",
       "      <td>1</td>\n",
       "    </tr>\n",
       "    <tr>\n",
       "      <th>2</th>\n",
       "      <td>58.0</td>\n",
       "      <td>4.0</td>\n",
       "      <td>5.0</td>\n",
       "      <td>3.0</td>\n",
       "      <td>1</td>\n",
       "    </tr>\n",
       "    <tr>\n",
       "      <th>3</th>\n",
       "      <td>28.0</td>\n",
       "      <td>1.0</td>\n",
       "      <td>1.0</td>\n",
       "      <td>3.0</td>\n",
       "      <td>0</td>\n",
       "    </tr>\n",
       "    <tr>\n",
       "      <th>4</th>\n",
       "      <td>74.0</td>\n",
       "      <td>1.0</td>\n",
       "      <td>5.0</td>\n",
       "      <td>NaN</td>\n",
       "      <td>1</td>\n",
       "    </tr>\n",
       "    <tr>\n",
       "      <th>5</th>\n",
       "      <td>65.0</td>\n",
       "      <td>1.0</td>\n",
       "      <td>NaN</td>\n",
       "      <td>3.0</td>\n",
       "      <td>0</td>\n",
       "    </tr>\n",
       "    <tr>\n",
       "      <th>6</th>\n",
       "      <td>70.0</td>\n",
       "      <td>NaN</td>\n",
       "      <td>NaN</td>\n",
       "      <td>3.0</td>\n",
       "      <td>0</td>\n",
       "    </tr>\n",
       "    <tr>\n",
       "      <th>7</th>\n",
       "      <td>42.0</td>\n",
       "      <td>1.0</td>\n",
       "      <td>NaN</td>\n",
       "      <td>3.0</td>\n",
       "      <td>0</td>\n",
       "    </tr>\n",
       "    <tr>\n",
       "      <th>8</th>\n",
       "      <td>57.0</td>\n",
       "      <td>1.0</td>\n",
       "      <td>5.0</td>\n",
       "      <td>3.0</td>\n",
       "      <td>1</td>\n",
       "    </tr>\n",
       "    <tr>\n",
       "      <th>9</th>\n",
       "      <td>60.0</td>\n",
       "      <td>NaN</td>\n",
       "      <td>5.0</td>\n",
       "      <td>1.0</td>\n",
       "      <td>1</td>\n",
       "    </tr>\n",
       "  </tbody>\n",
       "</table>\n",
       "</div>"
      ],
      "text/plain": [
       "    Age  Shape  Margin  Density  Severity\n",
       "0  67.0    3.0     5.0      3.0         1\n",
       "1  43.0    1.0     1.0      NaN         1\n",
       "2  58.0    4.0     5.0      3.0         1\n",
       "3  28.0    1.0     1.0      3.0         0\n",
       "4  74.0    1.0     5.0      NaN         1\n",
       "5  65.0    1.0     NaN      3.0         0\n",
       "6  70.0    NaN     NaN      3.0         0\n",
       "7  42.0    1.0     NaN      3.0         0\n",
       "8  57.0    1.0     5.0      3.0         1\n",
       "9  60.0    NaN     5.0      1.0         1"
      ]
     },
     "execution_count": 107,
     "metadata": {},
     "output_type": "execute_result"
    }
   ],
   "source": [
    "# Input dataset into a dataframe\n",
    "\n",
    "input_file = 'mammographic_masses.data.txt'\n",
    "masses_data = pd.read_csv(input_file, names = ['BI-RADS','Age','Shape','Margin','Density','Severity'], usecols = ['Age','Shape','Margin','Density','Severity'],na_values='?')\n",
    "masses_data.head(10)"
   ]
  },
  {
   "cell_type": "code",
   "execution_count": 21,
   "metadata": {},
   "outputs": [
    {
     "data": {
      "text/html": [
       "<div>\n",
       "<style scoped>\n",
       "    .dataframe tbody tr th:only-of-type {\n",
       "        vertical-align: middle;\n",
       "    }\n",
       "\n",
       "    .dataframe tbody tr th {\n",
       "        vertical-align: top;\n",
       "    }\n",
       "\n",
       "    .dataframe thead th {\n",
       "        text-align: right;\n",
       "    }\n",
       "</style>\n",
       "<table border=\"1\" class=\"dataframe\">\n",
       "  <thead>\n",
       "    <tr style=\"text-align: right;\">\n",
       "      <th></th>\n",
       "      <th>Age</th>\n",
       "      <th>Shape</th>\n",
       "      <th>Margin</th>\n",
       "      <th>Density</th>\n",
       "      <th>Severity</th>\n",
       "    </tr>\n",
       "  </thead>\n",
       "  <tbody>\n",
       "    <tr>\n",
       "      <th>count</th>\n",
       "      <td>956.000000</td>\n",
       "      <td>930.000000</td>\n",
       "      <td>913.000000</td>\n",
       "      <td>885.000000</td>\n",
       "      <td>961.000000</td>\n",
       "    </tr>\n",
       "    <tr>\n",
       "      <th>mean</th>\n",
       "      <td>55.487448</td>\n",
       "      <td>2.721505</td>\n",
       "      <td>2.796276</td>\n",
       "      <td>2.910734</td>\n",
       "      <td>0.463059</td>\n",
       "    </tr>\n",
       "    <tr>\n",
       "      <th>std</th>\n",
       "      <td>14.480131</td>\n",
       "      <td>1.242792</td>\n",
       "      <td>1.566546</td>\n",
       "      <td>0.380444</td>\n",
       "      <td>0.498893</td>\n",
       "    </tr>\n",
       "    <tr>\n",
       "      <th>min</th>\n",
       "      <td>18.000000</td>\n",
       "      <td>1.000000</td>\n",
       "      <td>1.000000</td>\n",
       "      <td>1.000000</td>\n",
       "      <td>0.000000</td>\n",
       "    </tr>\n",
       "    <tr>\n",
       "      <th>25%</th>\n",
       "      <td>45.000000</td>\n",
       "      <td>2.000000</td>\n",
       "      <td>1.000000</td>\n",
       "      <td>3.000000</td>\n",
       "      <td>0.000000</td>\n",
       "    </tr>\n",
       "    <tr>\n",
       "      <th>50%</th>\n",
       "      <td>57.000000</td>\n",
       "      <td>3.000000</td>\n",
       "      <td>3.000000</td>\n",
       "      <td>3.000000</td>\n",
       "      <td>0.000000</td>\n",
       "    </tr>\n",
       "    <tr>\n",
       "      <th>75%</th>\n",
       "      <td>66.000000</td>\n",
       "      <td>4.000000</td>\n",
       "      <td>4.000000</td>\n",
       "      <td>3.000000</td>\n",
       "      <td>1.000000</td>\n",
       "    </tr>\n",
       "    <tr>\n",
       "      <th>max</th>\n",
       "      <td>96.000000</td>\n",
       "      <td>4.000000</td>\n",
       "      <td>5.000000</td>\n",
       "      <td>4.000000</td>\n",
       "      <td>1.000000</td>\n",
       "    </tr>\n",
       "  </tbody>\n",
       "</table>\n",
       "</div>"
      ],
      "text/plain": [
       "              Age       Shape      Margin     Density    Severity\n",
       "count  956.000000  930.000000  913.000000  885.000000  961.000000\n",
       "mean    55.487448    2.721505    2.796276    2.910734    0.463059\n",
       "std     14.480131    1.242792    1.566546    0.380444    0.498893\n",
       "min     18.000000    1.000000    1.000000    1.000000    0.000000\n",
       "25%     45.000000    2.000000    1.000000    3.000000    0.000000\n",
       "50%     57.000000    3.000000    3.000000    3.000000    0.000000\n",
       "75%     66.000000    4.000000    4.000000    3.000000    1.000000\n",
       "max     96.000000    4.000000    5.000000    4.000000    1.000000"
      ]
     },
     "execution_count": 21,
     "metadata": {},
     "output_type": "execute_result"
    }
   ],
   "source": [
    "# Get a description about the data\n",
    "\n",
    "masses_data.describe()"
   ]
  },
  {
   "cell_type": "code",
   "execution_count": 22,
   "metadata": {},
   "outputs": [
    {
     "data": {
      "text/html": [
       "<div>\n",
       "<style scoped>\n",
       "    .dataframe tbody tr th:only-of-type {\n",
       "        vertical-align: middle;\n",
       "    }\n",
       "\n",
       "    .dataframe tbody tr th {\n",
       "        vertical-align: top;\n",
       "    }\n",
       "\n",
       "    .dataframe thead th {\n",
       "        text-align: right;\n",
       "    }\n",
       "</style>\n",
       "<table border=\"1\" class=\"dataframe\">\n",
       "  <thead>\n",
       "    <tr style=\"text-align: right;\">\n",
       "      <th></th>\n",
       "      <th>Age</th>\n",
       "      <th>Shape</th>\n",
       "      <th>Margin</th>\n",
       "      <th>Density</th>\n",
       "      <th>Severity</th>\n",
       "    </tr>\n",
       "  </thead>\n",
       "  <tbody>\n",
       "    <tr>\n",
       "      <th>count</th>\n",
       "      <td>831.000000</td>\n",
       "      <td>831.000000</td>\n",
       "      <td>831.000000</td>\n",
       "      <td>831.000000</td>\n",
       "      <td>831.000000</td>\n",
       "    </tr>\n",
       "    <tr>\n",
       "      <th>mean</th>\n",
       "      <td>55.777377</td>\n",
       "      <td>2.783394</td>\n",
       "      <td>2.814681</td>\n",
       "      <td>2.915764</td>\n",
       "      <td>0.484958</td>\n",
       "    </tr>\n",
       "    <tr>\n",
       "      <th>std</th>\n",
       "      <td>14.663528</td>\n",
       "      <td>1.242331</td>\n",
       "      <td>1.566771</td>\n",
       "      <td>0.350737</td>\n",
       "      <td>0.500075</td>\n",
       "    </tr>\n",
       "    <tr>\n",
       "      <th>min</th>\n",
       "      <td>18.000000</td>\n",
       "      <td>1.000000</td>\n",
       "      <td>1.000000</td>\n",
       "      <td>1.000000</td>\n",
       "      <td>0.000000</td>\n",
       "    </tr>\n",
       "    <tr>\n",
       "      <th>25%</th>\n",
       "      <td>46.000000</td>\n",
       "      <td>2.000000</td>\n",
       "      <td>1.000000</td>\n",
       "      <td>3.000000</td>\n",
       "      <td>0.000000</td>\n",
       "    </tr>\n",
       "    <tr>\n",
       "      <th>50%</th>\n",
       "      <td>57.000000</td>\n",
       "      <td>3.000000</td>\n",
       "      <td>3.000000</td>\n",
       "      <td>3.000000</td>\n",
       "      <td>0.000000</td>\n",
       "    </tr>\n",
       "    <tr>\n",
       "      <th>75%</th>\n",
       "      <td>66.000000</td>\n",
       "      <td>4.000000</td>\n",
       "      <td>4.000000</td>\n",
       "      <td>3.000000</td>\n",
       "      <td>1.000000</td>\n",
       "    </tr>\n",
       "    <tr>\n",
       "      <th>max</th>\n",
       "      <td>96.000000</td>\n",
       "      <td>4.000000</td>\n",
       "      <td>5.000000</td>\n",
       "      <td>4.000000</td>\n",
       "      <td>1.000000</td>\n",
       "    </tr>\n",
       "  </tbody>\n",
       "</table>\n",
       "</div>"
      ],
      "text/plain": [
       "              Age       Shape      Margin     Density    Severity\n",
       "count  831.000000  831.000000  831.000000  831.000000  831.000000\n",
       "mean    55.777377    2.783394    2.814681    2.915764    0.484958\n",
       "std     14.663528    1.242331    1.566771    0.350737    0.500075\n",
       "min     18.000000    1.000000    1.000000    1.000000    0.000000\n",
       "25%     46.000000    2.000000    1.000000    3.000000    0.000000\n",
       "50%     57.000000    3.000000    3.000000    3.000000    0.000000\n",
       "75%     66.000000    4.000000    4.000000    3.000000    1.000000\n",
       "max     96.000000    4.000000    5.000000    4.000000    1.000000"
      ]
     },
     "execution_count": 22,
     "metadata": {},
     "output_type": "execute_result"
    }
   ],
   "source": [
    "# Drop NAN values from our dataframe\n",
    "\n",
    "masses_data = masses_data.dropna()\n",
    "\n",
    "masses_data.describe()"
   ]
  },
  {
   "cell_type": "code",
   "execution_count": 23,
   "metadata": {},
   "outputs": [
    {
     "name": "stdout",
     "output_type": "stream",
     "text": [
      "[[67.  3.  5.  3.]\n",
      " [58.  4.  5.  3.]\n",
      " [28.  1.  1.  3.]\n",
      " ...\n",
      " [64.  4.  5.  3.]\n",
      " [66.  4.  5.  3.]\n",
      " [62.  3.  3.  3.]]\n",
      "[1 1 0 1 1 1 0 0 0 0 1 1 1 1 1 1 1 0 0 1 1 0 0 0 1 0 0 0 1 1 1 0 1 0 1 1 0\n",
      " 1 0 0 0 0 1 0 1 0 1 0 1 0 0 1 1 1 1 1 1 1 1 0 0 0 0 1 0 0 0 1 0 1 0 0 0 0\n",
      " 1 1 1 0 1 1 1 1 0 1 1 0 0 1 1 1 0 1 1 0 0 0 0 1 0 0 0 1 1 0 1 1 0 0 0 0 1\n",
      " 0 0 1 0 0 0 0 1 1 1 1 0 1 0 1 0 1 0 1 0 0 0 0 1 0 0 1 0 1 0 0 0 1 1 0 0 0\n",
      " 0 0 0 1 1 1 0 1 0 0 0 1 1 0 1 0 0 1 0 1 0 0 0 1 0 0 1 0 0 0 1 0 1 1 1 1 1\n",
      " 1 1 0 0 1 0 1 0 1 1 1 1 1 0 1 0 1 0 1 0 0 1 1 0 0 1 0 1 0 1 1 0 1 0 1 1 1\n",
      " 0 0 0 0 0 0 0 0 1 1 1 1 0 0 0 0 1 1 1 0 1 0 0 0 0 1 1 1 0 1 1 0 1 1 1 1 1\n",
      " 1 0 0 0 1 0 1 0 0 1 0 0 1 0 0 1 1 1 1 0 1 0 0 0 1 1 1 1 0 1 0 1 0 1 0 1 1\n",
      " 0 0 1 0 1 1 0 0 1 1 0 0 1 0 1 0 1 1 1 1 0 0 1 0 1 0 1 1 1 0 1 1 1 1 0 0 1\n",
      " 0 1 0 1 1 0 1 0 1 1 1 1 1 0 1 1 1 0 1 1 0 0 1 1 1 0 0 0 1 1 1 0 1 0 0 1 1\n",
      " 0 1 0 1 0 0 0 0 0 1 0 1 0 0 0 0 0 0 1 1 0 1 1 1 1 1 0 0 1 0 0 0 0 0 1 1 1\n",
      " 1 0 0 1 1 1 0 0 1 0 1 0 0 1 1 1 0 1 0 0 0 0 1 0 1 0 0 0 1 1 0 0 1 1 1 1 0\n",
      " 0 0 0 0 1 0 1 1 0 0 1 1 0 0 0 0 0 0 0 1 0 0 1 0 0 0 1 0 0 0 0 1 1 0 1 1 0\n",
      " 0 0 1 0 1 1 0 1 1 1 0 1 1 0 0 1 1 1 0 1 0 1 0 1 0 0 0 0 1 1 0 1 0 0 0 0 0\n",
      " 1 0 1 0 0 0 1 1 0 1 0 0 0 1 0 0 1 0 1 0 1 0 1 1 0 0 1 1 1 0 0 1 0 1 1 1 1\n",
      " 1 1 1 1 0 0 0 0 1 1 1 1 1 1 0 1 1 0 0 0 1 0 1 1 1 0 1 0 1 0 0 1 0 0 0 1 1\n",
      " 0 0 0 1 1 0 0 0 1 1 0 1 1 0 0 1 1 0 0 0 0 0 1 0 0 0 0 0 0 0 1 0 1 0 0 0 1\n",
      " 0 0 1 1 1 1 0 1 1 1 0 1 1 0 0 1 0 0 1 0 1 0 0 0 0 0 0 1 1 0 1 0 1 1 0 0 1\n",
      " 1 0 0 1 1 1 0 1 1 1 0 0 0 1 1 0 1 0 1 1 1 0 1 0 0 0 0 1 0 0 1 0 1 1 0 1 1\n",
      " 0 1 1 0 1 0 1 0 0 0 0 1 0 0 0 0 0 1 0 0 1 0 0 1 0 1 0 1 1 1 1 1 1 1 0 1 0\n",
      " 0 0 1 0 1 1 0 0 0 0 1 0 1 1 0 1 1 0 1 1 1 1 1 1 0 0 1 0 1 0 1 1 1 0 1 1 0\n",
      " 0 1 1 0 1 0 1 0 1 0 0 1 0 0 0 1 0 1 0 1 0 1 0 0 1 0 0 0 1 0 0 0 0 1 0 1 0\n",
      " 1 0 0 0 1 0 1 1 1 0 0 1 0 1 0 1 0]\n"
     ]
    }
   ],
   "source": [
    "# Create two vectors: X containing input features ( first four columns ) \n",
    "#                     Y containing target variable ('the severity' column)\n",
    "\n",
    "features = list(masses_data.columns[:4])\n",
    "X = masses_data[features].values\n",
    "print(X)\n",
    "\n",
    "labels = list(masses_data.columns[4:])\n",
    "y = masses_data[labels].values\n",
    "y = y.ravel()\n",
    "print(y)\n"
   ]
  },
  {
   "cell_type": "code",
   "execution_count": 24,
   "metadata": {},
   "outputs": [
    {
     "name": "stdout",
     "output_type": "stream",
     "text": [
      "[[ 0.76580356  0.17445989  1.39563127  0.24031298]\n",
      " [ 0.15166622  0.97988304  1.39563127  0.24031298]\n",
      " [-1.89545824 -1.43638642 -1.15892729  0.24031298]\n",
      " ...\n",
      " [ 0.56109111  0.97988304  1.39563127  0.24031298]\n",
      " [ 0.69756608  0.97988304  1.39563127  0.24031298]\n",
      " [ 0.42461615  0.17445989  0.11835199  0.24031298]]\n"
     ]
    }
   ],
   "source": [
    "# Scale the input features to normalise the data\n",
    "# The data transformed will have a mean value of 0 and standard deviation of 1\n",
    "\n",
    "scaler = StandardScaler()\n",
    "X = scaler.fit_transform(X)\n",
    "print(X)"
   ]
  },
  {
   "cell_type": "code",
   "execution_count": 25,
   "metadata": {},
   "outputs": [],
   "source": [
    "# Create training and testing datasets\n",
    "\n",
    "X_train, X_test, y_train, y_test = model_selection.train_test_split(X, y, test_size=0.25, random_state=0) "
   ]
  },
  {
   "cell_type": "markdown",
   "metadata": {},
   "source": [
    "## Decision Tree Classifier"
   ]
  },
  {
   "cell_type": "code",
   "execution_count": 112,
   "metadata": {},
   "outputs": [
    {
     "name": "stdout",
     "output_type": "stream",
     "text": [
      "[1 1 0 0 0 0 0 1 1 1 0 0 1 0 0 0 0 0 0 1 0 1 0 0 1 0 1 1 0 0 0 0 0 0 0 0 1\n",
      " 0 0 1 0 0 0 1 1 0 1 0 1 1 1 1 1 0 1 1 0 0 1 1 0 0 0 0 1 0 1 0 1 0 1 1 0 0\n",
      " 1 1 0 1 1 1 0 1 0 0 0 1 1 1 0 0 1 1 1 0 1 1 0 1 1 0 1 1 0 0 0 1 0 1 1 0 1\n",
      " 1 0 0 1 0 1 1 1 1 0 0 0 0 0 0 0 0 0 0 0 1 1 1 0 1 0 1 1 1 0 1 0 1 0 1 0 0\n",
      " 0 1 0 0 1 1 0 0 1 0 0 0 0 0 1 1 1 0 0 0 1 1 1 1 0 0 1 0 1 0 1 1 1 1 1 0 0\n",
      " 0 1 1 1 0 1 0 0 0 1 0 1 1 1 1 1 1 1 0 0 0 1 0]\n"
     ]
    },
    {
     "data": {
      "text/plain": [
       "0.7740384615384616"
      ]
     },
     "execution_count": 112,
     "metadata": {},
     "output_type": "execute_result"
    }
   ],
   "source": [
    "# Build the model Decision Tree classifier using the trainning set\n",
    "\n",
    "dtc = tree.DecisionTreeClassifier(random_state=0)\n",
    "dtc = dtc.fit(X_train, y_train)\n",
    "\n",
    "# then predict the values of the features test set\n",
    "\n",
    "y_pred = dtc.predict(X_test)\n",
    "print(y_pred)\n",
    "\n",
    "# Calculate the accuracy of the prediction on test samples\n",
    "# Not bad as result: 77%\n",
    "dtc.score(X_test, y_test)"
   ]
  },
  {
   "cell_type": "code",
   "execution_count": 113,
   "metadata": {},
   "outputs": [],
   "source": [
    "# ROC curve\n",
    "\n",
    "from sklearn import metrics\n",
    "\n",
    "def createROC(y_test, y_pred):\n",
    "    fpr, tpr, thresholds = metrics.roc_curve(y_test, y_pred)\n",
    "    roc_auc = metrics.auc(fpr, tpr)\n",
    "    \n",
    "    plt.title('Receiver Operating Characteristic')\n",
    "    \n",
    "    plt.plot(fpr, tpr, 'b', label='AUC = %0.2f'% roc_auc)\n",
    "    plt.legend(loc='lower right')\n",
    "    plt.plot([0,1], [0,1], 'r--')\n",
    "    \n",
    "    plt.xlim([-0.1,1.2])\n",
    "    plt.ylim([-0.1,1.2])\n",
    "    \n",
    "    plt.ylabel('True Positive Rate')\n",
    "    plt.xlabel('False Positive Rate')\n",
    "    \n",
    "    plt.show()\n",
    "    "
   ]
  },
  {
   "cell_type": "code",
   "execution_count": 114,
   "metadata": {},
   "outputs": [
    {
     "data": {
      "image/png": "[encoded data removed]",
      "text/plain": [
       "<Figure size 432x288 with 1 Axes>"
      ]
     },
     "metadata": {
      "needs_background": "light"
     },
     "output_type": "display_data"
    }
   ],
   "source": [
    "createROC(y_test, y_pred)"
   ]
  },
  {
   "cell_type": "code",
   "execution_count": 125,
   "metadata": {},
   "outputs": [
    {
     "ename": "InvocationException",
     "evalue": "GraphViz's executables not found",
     "output_type": "error",
     "traceback": [
      "\u001b[1;31m---------------------------------------------------------------------------\u001b[0m",
      "\u001b[1;31mInvocationException\u001b[0m                       Traceback (most recent call last)",
      "\u001b[1;32m<ipython-input-125-741e79d2eccf>\u001b[0m in \u001b[0;36m<module>\u001b[1;34m\u001b[0m\n\u001b[0;32m     14\u001b[0m \u001b[0mgraph\u001b[0m \u001b[1;33m=\u001b[0m \u001b[0mpydotplus\u001b[0m\u001b[1;33m.\u001b[0m\u001b[0mgraph_from_dot_data\u001b[0m\u001b[1;33m(\u001b[0m\u001b[0mdot_data\u001b[0m\u001b[1;33m.\u001b[0m\u001b[0mgetvalue\u001b[0m\u001b[1;33m(\u001b[0m\u001b[1;33m)\u001b[0m\u001b[1;33m)\u001b[0m\u001b[1;33m\u001b[0m\u001b[1;33m\u001b[0m\u001b[0m\n\u001b[0;32m     15\u001b[0m \u001b[1;31m# make sure you have graphviz installed and set in path\u001b[0m\u001b[1;33m\u001b[0m\u001b[1;33m\u001b[0m\u001b[1;33m\u001b[0m\u001b[0m\n\u001b[1;32m---> 16\u001b[1;33m \u001b[0mImage\u001b[0m\u001b[1;33m(\u001b[0m\u001b[0mgraph\u001b[0m\u001b[1;33m.\u001b[0m\u001b[0mcreate_png\u001b[0m\u001b[1;33m(\u001b[0m\u001b[1;33m)\u001b[0m\u001b[1;33m)\u001b[0m\u001b[1;33m\u001b[0m\u001b[1;33m\u001b[0m\u001b[0m\n\u001b[0m",
      "\u001b[1;32m~\\Anaconda3\\lib\\site-packages\\pydotplus\\graphviz.py\u001b[0m in \u001b[0;36m<lambda>\u001b[1;34m(f, prog)\u001b[0m\n\u001b[0;32m   1795\u001b[0m             self.__setattr__(\n\u001b[0;32m   1796\u001b[0m                 \u001b[1;34m'create_'\u001b[0m \u001b[1;33m+\u001b[0m \u001b[0mfrmt\u001b[0m\u001b[1;33m,\u001b[0m\u001b[1;33m\u001b[0m\u001b[1;33m\u001b[0m\u001b[0m\n\u001b[1;32m-> 1797\u001b[1;33m                 \u001b[1;32mlambda\u001b[0m \u001b[0mf\u001b[0m\u001b[1;33m=\u001b[0m\u001b[0mfrmt\u001b[0m\u001b[1;33m,\u001b[0m \u001b[0mprog\u001b[0m\u001b[1;33m=\u001b[0m\u001b[0mself\u001b[0m\u001b[1;33m.\u001b[0m\u001b[0mprog\u001b[0m\u001b[1;33m:\u001b[0m \u001b[0mself\u001b[0m\u001b[1;33m.\u001b[0m\u001b[0mcreate\u001b[0m\u001b[1;33m(\u001b[0m\u001b[0mformat\u001b[0m\u001b[1;33m=\u001b[0m\u001b[0mf\u001b[0m\u001b[1;33m,\u001b[0m \u001b[0mprog\u001b[0m\u001b[1;33m=\u001b[0m\u001b[0mprog\u001b[0m\u001b[1;33m)\u001b[0m\u001b[1;33m\u001b[0m\u001b[1;33m\u001b[0m\u001b[0m\n\u001b[0m\u001b[0;32m   1798\u001b[0m             )\n\u001b[0;32m   1799\u001b[0m             \u001b[0mf\u001b[0m \u001b[1;33m=\u001b[0m \u001b[0mself\u001b[0m\u001b[1;33m.\u001b[0m\u001b[0m__dict__\u001b[0m\u001b[1;33m[\u001b[0m\u001b[1;34m'create_'\u001b[0m \u001b[1;33m+\u001b[0m \u001b[0mfrmt\u001b[0m\u001b[1;33m]\u001b[0m\u001b[1;33m\u001b[0m\u001b[1;33m\u001b[0m\u001b[0m\n",
      "\u001b[1;32m~\\Anaconda3\\lib\\site-packages\\pydotplus\\graphviz.py\u001b[0m in \u001b[0;36mcreate\u001b[1;34m(self, prog, format)\u001b[0m\n\u001b[0;32m   1958\u001b[0m             \u001b[1;32mif\u001b[0m \u001b[0mself\u001b[0m\u001b[1;33m.\u001b[0m\u001b[0mprogs\u001b[0m \u001b[1;32mis\u001b[0m \u001b[1;32mNone\u001b[0m\u001b[1;33m:\u001b[0m\u001b[1;33m\u001b[0m\u001b[1;33m\u001b[0m\u001b[0m\n\u001b[0;32m   1959\u001b[0m                 raise InvocationException(\n\u001b[1;32m-> 1960\u001b[1;33m                     'GraphViz\\'s executables not found')\n\u001b[0m\u001b[0;32m   1961\u001b[0m \u001b[1;33m\u001b[0m\u001b[0m\n\u001b[0;32m   1962\u001b[0m         \u001b[1;32mif\u001b[0m \u001b[0mprog\u001b[0m \u001b[1;32mnot\u001b[0m \u001b[1;32min\u001b[0m \u001b[0mself\u001b[0m\u001b[1;33m.\u001b[0m\u001b[0mprogs\u001b[0m\u001b[1;33m:\u001b[0m\u001b[1;33m\u001b[0m\u001b[1;33m\u001b[0m\u001b[0m\n",
      "\u001b[1;31mInvocationException\u001b[0m: GraphViz's executables not found"
     ]
    }
   ],
   "source": [
    "from IPython.display import Image\n",
    "from sklearn.externals.six import StringIO\n",
    "import pydotplus\n",
    "\n",
    "dot_data = StringIO()\n",
    "\n",
    "# Get the dot graph of our decision tree\n",
    "tree.export_graphviz(dtc, out_file=dot_data, \n",
    "                     feature_names=features,\n",
    "                     filled=True, rounded=True,\n",
    "                     special_characters=True, max_depth=15)\n",
    "\n",
    "# Convert this dot graph into an image\n",
    "graph = pydotplus.graph_from_dot_data(dot_data.getvalue())\n",
    "# make sure you have graphviz installed and set in path\n",
    "Image(graph.create_png())\n"
   ]
  },
  {
   "cell_type": "code",
   "execution_count": 33,
   "metadata": {},
   "outputs": [
    {
     "name": "stdout",
     "output_type": "stream",
     "text": [
      "[0.71428571 0.75       0.72619048 0.73493976 0.78313253 0.69879518\n",
      " 0.72289157 0.75903614 0.7804878  0.68292683]\n",
      "0.7352686005345423\n"
     ]
    }
   ],
   "source": [
    "# K-Fold Cross Validation\n",
    "\n",
    "dtc = tree.DecisionTreeClassifier(random_state=0)\n",
    "scores = model_selection.cross_val_score(dtc, X, y, cv=10)\n",
    "print(scores)\n",
    "print(scores.mean())\n"
   ]
  },
  {
   "cell_type": "markdown",
   "metadata": {},
   "source": [
    " ## Random Forest Classifier"
   ]
  },
  {
   "cell_type": "code",
   "execution_count": 34,
   "metadata": {},
   "outputs": [
    {
     "name": "stdout",
     "output_type": "stream",
     "text": [
      "[0.69047619 0.75       0.80952381 0.72289157 0.84337349 0.71084337\n",
      " 0.78313253 0.72289157 0.75609756 0.67073171]\n",
      "0.7459961798413165\n"
     ]
    }
   ],
   "source": [
    "# Build the model of random forest classifier\n",
    "\n",
    "from sklearn.ensemble import RandomForestClassifier\n",
    "\n",
    "rfc = RandomForestClassifier(n_estimators=10)\n",
    "rfc = rfc.fit(X_train, y_train)\n",
    "\n",
    "y_pred = rfc.predict(X_test)\n",
    "scores = model_selection.cross_val_score(rfc, X, y, cv=10)\n",
    "\n",
    "print(scores)\n",
    "print(scores.mean())"
   ]
  },
  {
   "cell_type": "code",
   "execution_count": 36,
   "metadata": {},
   "outputs": [
    {
     "data": {
      "image/png": "[encoded data removed]",
      "text/plain": [
       "<Figure size 432x288 with 1 Axes>"
      ]
     },
     "metadata": {
      "needs_background": "light"
     },
     "output_type": "display_data"
    }
   ],
   "source": [
    "createROC(y_test, y_pred)"
   ]
  },
  {
   "cell_type": "markdown",
   "metadata": {},
   "source": [
    "## SVM"
   ]
  },
  {
   "cell_type": "markdown",
   "metadata": {},
   "source": [
    "### 1 - Linear Kernel "
   ]
  },
  {
   "cell_type": "code",
   "execution_count": 45,
   "metadata": {},
   "outputs": [
    {
     "name": "stdout",
     "output_type": "stream",
     "text": [
      "[0.71428571 0.77380952 0.85714286 0.80722892 0.84337349 0.71084337\n",
      " 0.79518072 0.80722892 0.90243902 0.74390244]\n",
      "0.7955434980339476\n"
     ]
    }
   ],
   "source": [
    "from sklearn import svm\n",
    "\n",
    "# Build the model svm\n",
    "\n",
    "svc = svm.SVC(kernel='linear', C=1, gamma='scale')\n",
    "svc = svc.fit(X_train, y_train)\n",
    "\n",
    "y_pred = svc.predict(X_test)\n",
    "\n",
    "scores = model_selection.cross_val_score(svc, X, y, cv=10)\n",
    "print(scores)\n",
    "print(scores.mean())\n"
   ]
  },
  {
   "cell_type": "code",
   "execution_count": 39,
   "metadata": {},
   "outputs": [
    {
     "data": {
      "image/png": "[encoded data removed]",
      "text/plain": [
       "<Figure size 432x288 with 1 Axes>"
      ]
     },
     "metadata": {
      "needs_background": "light"
     },
     "output_type": "display_data"
    }
   ],
   "source": [
    "createROC(y_pred, y_test)"
   ]
  },
  {
   "cell_type": "markdown",
   "metadata": {},
   "source": [
    "### 2 - Poly Kernel"
   ]
  },
  {
   "cell_type": "code",
   "execution_count": 41,
   "metadata": {},
   "outputs": [
    {
     "name": "stdout",
     "output_type": "stream",
     "text": [
      "[0.76190476 0.77380952 0.86904762 0.79518072 0.84337349 0.71084337\n",
      " 0.75903614 0.78313253 0.86585366 0.74390244]\n",
      "0.7906084267383122\n"
     ]
    }
   ],
   "source": [
    "# Build the model svm\n",
    "\n",
    "svc = svm.SVC(kernel='poly', C=1, gamma='scale')\n",
    "svc = svc.fit(X_train, y_train)\n",
    "\n",
    "y_pred = svc.predict(X_test)\n",
    "\n",
    "scores = model_selection.cross_val_score(svc, X, y, cv=10)\n",
    "print(scores)\n",
    "print(scores.mean())"
   ]
  },
  {
   "cell_type": "code",
   "execution_count": 42,
   "metadata": {},
   "outputs": [
    {
     "data": {
      "image/png": "[encoded data removed]",
      "text/plain": [
       "<Figure size 432x288 with 1 Axes>"
      ]
     },
     "metadata": {
      "needs_background": "light"
     },
     "output_type": "display_data"
    }
   ],
   "source": [
    "createROC(y_pred, y_test)"
   ]
  },
  {
   "cell_type": "markdown",
   "metadata": {},
   "source": [
    "### 3 - RBF Kernel"
   ]
  },
  {
   "cell_type": "code",
   "execution_count": 44,
   "metadata": {},
   "outputs": [
    {
     "name": "stdout",
     "output_type": "stream",
     "text": [
      "[0.76190476 0.79761905 0.85714286 0.80722892 0.86746988 0.73493976\n",
      " 0.77108434 0.78313253 0.86585366 0.76829268]\n",
      "0.8014668429816828\n"
     ]
    }
   ],
   "source": [
    "# Build the model svm\n",
    "\n",
    "svc = svm.SVC(kernel='rbf', C=1, gamma='scale')\n",
    "svc = svc.fit(X_train, y_train)\n",
    "\n",
    "y_pred = svc.predict(X_test)\n",
    "\n",
    "scores = model_selection.cross_val_score(svc, X, y, cv=10)\n",
    "print(scores)\n",
    "print(scores.mean())"
   ]
  },
  {
   "cell_type": "code",
   "execution_count": 46,
   "metadata": {},
   "outputs": [
    {
     "data": {
      "image/png": "[encoded data removed]",
      "text/plain": [
       "<Figure size 432x288 with 1 Axes>"
      ]
     },
     "metadata": {
      "needs_background": "light"
     },
     "output_type": "display_data"
    }
   ],
   "source": [
    "createROC(y_pred, y_test)"
   ]
  },
  {
   "cell_type": "markdown",
   "metadata": {},
   "source": [
    "### 4 - Sigmoid Kernel"
   ]
  },
  {
   "cell_type": "code",
   "execution_count": 49,
   "metadata": {},
   "outputs": [
    {
     "name": "stdout",
     "output_type": "stream",
     "text": [
      "[0.67857143 0.67857143 0.75       0.72289157 0.74698795 0.72289157\n",
      " 0.73493976 0.78313253 0.70731707 0.75609756]\n",
      "0.7281400864783174\n"
     ]
    }
   ],
   "source": [
    "# Build the model svm\n",
    "\n",
    "svc = svm.SVC(kernel='sigmoid', C=1, gamma='scale')\n",
    "svc = svc.fit(X_train, y_train)\n",
    "\n",
    "y_pred = svc.predict(X_test)\n",
    "\n",
    "scores = model_selection.cross_val_score(svc, X, y, cv=10)\n",
    "print(scores)\n",
    "print(scores.mean())"
   ]
  },
  {
   "cell_type": "code",
   "execution_count": 51,
   "metadata": {},
   "outputs": [
    {
     "data": {
      "image/png": "[encoded data removed]",
      "text/plain": [
       "<Figure size 432x288 with 1 Axes>"
      ]
     },
     "metadata": {
      "needs_background": "light"
     },
     "output_type": "display_data"
    }
   ],
   "source": [
    "createROC(y_pred, y_test)"
   ]
  },
  {
   "cell_type": "markdown",
   "metadata": {},
   "source": [
    " ## Naive Bayes"
   ]
  },
  {
   "cell_type": "code",
   "execution_count": 52,
   "metadata": {},
   "outputs": [
    {
     "name": "stdout",
     "output_type": "stream",
     "text": [
      "[0.73809524 0.76190476 0.80952381 0.8313253  0.8313253  0.75903614\n",
      " 0.71084337 0.75903614 0.91463415 0.70731707]\n",
      "0.7823041294096245\n"
     ]
    }
   ],
   "source": [
    "# Build the naive bayes model\n",
    "\n",
    "from sklearn.preprocessing import MinMaxScaler\n",
    "from sklearn.naive_bayes import MultinomialNB\n",
    "\n",
    "scaler = MinMaxScaler()\n",
    "X = scaler.fit_transform(X)\n",
    "\n",
    "nb = MultinomialNB()\n",
    "\n",
    "X_train, X_test, y_train, y_test = model_selection.train_test_split(X, y, test_size=0.25, random_state=0)\n",
    "nb.fit(X_train, y_train)\n",
    "\n",
    "y_pred = nb.predict(X_test)\n",
    "nb.score(X_test, y_test)\n",
    "\n",
    "scores = model_selection.cross_val_score(nb, X, y, cv=10)\n",
    "print(scores)\n",
    "print(scores.mean())\n"
   ]
  },
  {
   "cell_type": "code",
   "execution_count": 53,
   "metadata": {},
   "outputs": [
    {
     "data": {
      "image/png": "[encoded data removed]",
      "text/plain": [
       "<Figure size 432x288 with 1 Axes>"
      ]
     },
     "metadata": {
      "needs_background": "light"
     },
     "output_type": "display_data"
    }
   ],
   "source": [
    "createROC(y_pred, y_test)"
   ]
  },
  {
   "cell_type": "markdown",
   "metadata": {},
   "source": [
    "## Logistic Regression"
   ]
  },
  {
   "cell_type": "code",
   "execution_count": 55,
   "metadata": {},
   "outputs": [
    {
     "name": "stdout",
     "output_type": "stream",
     "text": [
      "[0.75       0.76190476 0.86904762 0.81927711 0.8313253  0.72289157\n",
      " 0.78313253 0.8313253  0.8902439  0.79268293]\n",
      "0.805183101744959\n"
     ]
    }
   ],
   "source": [
    "# Build the logistic regression model\n",
    "\n",
    "from sklearn import linear_model\n",
    "\n",
    "lr = linear_model.LogisticRegression(C=1e5, solver='lbfgs')\n",
    "lr = lr.fit(X_train, y_train)\n",
    "\n",
    "y_pred = lr.predict(X_test)\n",
    "\n",
    "scores = model_selection.cross_val_score(lr, X, y, cv=10)\n",
    "print(scores)\n",
    "print(scores.mean())\n"
   ]
  },
  {
   "cell_type": "code",
   "execution_count": 56,
   "metadata": {},
   "outputs": [
    {
     "data": {
      "image/png": "[encoded data removed]",
      "text/plain": [
       "<Figure size 432x288 with 1 Axes>"
      ]
     },
     "metadata": {
      "needs_background": "light"
     },
     "output_type": "display_data"
    }
   ],
   "source": [
    "createROC(y_pred, y_test)"
   ]
  },
  {
   "cell_type": "markdown",
   "metadata": {},
   "source": [
    "## Artificial Neural Network"
   ]
  },
  {
   "cell_type": "code",
   "execution_count": 70,
   "metadata": {},
   "outputs": [],
   "source": [
    "\n",
    "import keras\n",
    "from keras.models import Sequential\n",
    "from keras.layers import Dense, Dropout\n",
    "from keras.optimizers import RMSprop\n",
    "from keras.wrappers.scikit_learn import KerasClassifier"
   ]
  },
  {
   "cell_type": "code",
   "execution_count": 104,
   "metadata": {},
   "outputs": [
    {
     "name": "stdout",
     "output_type": "stream",
     "text": [
      "Epoch 1/100\n",
      " - 2s - loss: 0.6928 - acc: 0.5522\n",
      "Epoch 2/100\n",
      " - 0s - loss: 0.6844 - acc: 0.7127\n",
      "Epoch 3/100\n",
      " - 0s - loss: 0.6363 - acc: 0.7769\n",
      "Epoch 4/100\n",
      " - 0s - loss: 0.5627 - acc: 0.7689\n",
      "Epoch 5/100\n",
      " - 0s - loss: 0.5276 - acc: 0.7737\n",
      "Epoch 6/100\n",
      " - 0s - loss: 0.5152 - acc: 0.7801\n",
      "Epoch 7/100\n",
      " - 0s - loss: 0.4936 - acc: 0.7801\n",
      "Epoch 8/100\n",
      " - 0s - loss: 0.4962 - acc: 0.7865\n",
      "Epoch 9/100\n",
      " - 0s - loss: 0.4890 - acc: 0.7737\n",
      "Epoch 10/100\n",
      " - 0s - loss: 0.4938 - acc: 0.7945\n",
      "Epoch 11/100\n",
      " - 0s - loss: 0.5172 - acc: 0.7737\n",
      "Epoch 12/100\n",
      " - 0s - loss: 0.5038 - acc: 0.7817\n",
      "Epoch 13/100\n",
      " - 0s - loss: 0.5096 - acc: 0.7673\n",
      "Epoch 14/100\n",
      " - 0s - loss: 0.4989 - acc: 0.7753\n",
      "Epoch 15/100\n",
      " - 0s - loss: 0.5065 - acc: 0.7849\n",
      "Epoch 16/100\n",
      " - 0s - loss: 0.4895 - acc: 0.7849\n",
      "Epoch 17/100\n",
      " - 0s - loss: 0.5001 - acc: 0.7785\n",
      "Epoch 18/100\n",
      " - 0s - loss: 0.4888 - acc: 0.7785\n",
      "Epoch 19/100\n",
      " - 0s - loss: 0.4918 - acc: 0.7849\n",
      "Epoch 20/100\n",
      " - 0s - loss: 0.4893 - acc: 0.7913\n",
      "Epoch 21/100\n",
      " - 0s - loss: 0.4883 - acc: 0.7801\n",
      "Epoch 22/100\n",
      " - 0s - loss: 0.4803 - acc: 0.7833\n",
      "Epoch 23/100\n",
      " - 0s - loss: 0.5045 - acc: 0.7849\n",
      "Epoch 24/100\n",
      " - 0s - loss: 0.4875 - acc: 0.7817\n",
      "Epoch 25/100\n",
      " - 0s - loss: 0.4932 - acc: 0.7785\n",
      "Epoch 26/100\n",
      " - 0s - loss: 0.4944 - acc: 0.7833\n",
      "Epoch 27/100\n",
      " - 0s - loss: 0.4889 - acc: 0.7817\n",
      "Epoch 28/100\n",
      " - 0s - loss: 0.4931 - acc: 0.7785\n",
      "Epoch 29/100\n",
      " - 0s - loss: 0.4910 - acc: 0.7849\n",
      "Epoch 30/100\n",
      " - 0s - loss: 0.4874 - acc: 0.7833\n",
      "Epoch 31/100\n",
      " - 0s - loss: 0.4959 - acc: 0.7833\n",
      "Epoch 32/100\n",
      " - 0s - loss: 0.4880 - acc: 0.7753\n",
      "Epoch 33/100\n",
      " - 0s - loss: 0.4766 - acc: 0.7769\n",
      "Epoch 34/100\n",
      " - 0s - loss: 0.4893 - acc: 0.7849\n",
      "Epoch 35/100\n",
      " - 0s - loss: 0.4849 - acc: 0.7785\n",
      "Epoch 36/100\n",
      " - 0s - loss: 0.4678 - acc: 0.7817\n",
      "Epoch 37/100\n",
      " - 0s - loss: 0.4775 - acc: 0.7913\n",
      "Epoch 38/100\n",
      " - 0s - loss: 0.4841 - acc: 0.7881\n",
      "Epoch 39/100\n",
      " - 0s - loss: 0.4853 - acc: 0.7913\n",
      "Epoch 40/100\n",
      " - 0s - loss: 0.4630 - acc: 0.7817\n",
      "Epoch 41/100\n",
      " - 0s - loss: 0.4752 - acc: 0.7881\n",
      "Epoch 42/100\n",
      " - 0s - loss: 0.4625 - acc: 0.7978\n",
      "Epoch 43/100\n",
      " - 0s - loss: 0.4803 - acc: 0.7753\n",
      "Epoch 44/100\n",
      " - 0s - loss: 0.4678 - acc: 0.7833\n",
      "Epoch 45/100\n",
      " - 0s - loss: 0.4794 - acc: 0.7849\n",
      "Epoch 46/100\n",
      " - 0s - loss: 0.4675 - acc: 0.7961\n",
      "Epoch 47/100\n",
      " - 0s - loss: 0.4770 - acc: 0.7929\n",
      "Epoch 48/100\n",
      " - 0s - loss: 0.4596 - acc: 0.7945\n",
      "Epoch 49/100\n",
      " - 0s - loss: 0.4721 - acc: 0.7753\n",
      "Epoch 50/100\n",
      " - 0s - loss: 0.4765 - acc: 0.7833\n",
      "Epoch 51/100\n",
      " - 0s - loss: 0.4767 - acc: 0.7978\n",
      "Epoch 52/100\n",
      " - 0s - loss: 0.4732 - acc: 0.7785\n",
      "Epoch 53/100\n",
      " - 0s - loss: 0.4820 - acc: 0.7769\n",
      "Epoch 54/100\n",
      " - 0s - loss: 0.4728 - acc: 0.7769\n",
      "Epoch 55/100\n",
      " - 0s - loss: 0.4679 - acc: 0.7849\n",
      "Epoch 56/100\n",
      " - 0s - loss: 0.4810 - acc: 0.7801\n",
      "Epoch 57/100\n",
      " - 0s - loss: 0.4712 - acc: 0.7833\n",
      "Epoch 58/100\n",
      " - 0s - loss: 0.4720 - acc: 0.8010\n",
      "Epoch 59/100\n",
      " - 0s - loss: 0.4720 - acc: 0.7849\n",
      "Epoch 60/100\n",
      " - 0s - loss: 0.4810 - acc: 0.7849\n",
      "Epoch 61/100\n",
      " - 0s - loss: 0.4776 - acc: 0.7849\n",
      "Epoch 62/100\n",
      " - 0s - loss: 0.4799 - acc: 0.7945\n",
      "Epoch 63/100\n",
      " - 0s - loss: 0.4712 - acc: 0.7978\n",
      "Epoch 64/100\n",
      " - 0s - loss: 0.4761 - acc: 0.7785\n",
      "Epoch 65/100\n",
      " - 0s - loss: 0.4689 - acc: 0.7833\n",
      "Epoch 66/100\n",
      " - 0s - loss: 0.4696 - acc: 0.7721\n",
      "Epoch 67/100\n",
      " - 0s - loss: 0.4719 - acc: 0.7929\n",
      "Epoch 68/100\n",
      " - 0s - loss: 0.4585 - acc: 0.7817\n",
      "Epoch 69/100\n",
      " - 0s - loss: 0.4593 - acc: 0.7817\n",
      "Epoch 70/100\n",
      " - 0s - loss: 0.4709 - acc: 0.7833\n",
      "Epoch 71/100\n",
      " - 0s - loss: 0.4571 - acc: 0.7785\n",
      "Epoch 72/100\n",
      " - 0s - loss: 0.4669 - acc: 0.7833\n",
      "Epoch 73/100\n",
      " - 0s - loss: 0.4648 - acc: 0.7785\n",
      "Epoch 74/100\n",
      " - 0s - loss: 0.4545 - acc: 0.7849\n",
      "Epoch 75/100\n",
      " - 0s - loss: 0.4614 - acc: 0.7913\n",
      "Epoch 76/100\n",
      " - 0s - loss: 0.4576 - acc: 0.7833\n",
      "Epoch 77/100\n",
      " - 0s - loss: 0.4590 - acc: 0.7849\n",
      "Epoch 78/100\n",
      " - 0s - loss: 0.4739 - acc: 0.7961\n",
      "Epoch 79/100\n",
      " - 0s - loss: 0.4709 - acc: 0.7897\n",
      "Epoch 80/100\n",
      " - 0s - loss: 0.4479 - acc: 0.7945\n",
      "Epoch 81/100\n",
      " - 0s - loss: 0.4585 - acc: 0.7945\n",
      "Epoch 82/100\n",
      " - 0s - loss: 0.4664 - acc: 0.7769\n",
      "Epoch 83/100\n",
      " - 0s - loss: 0.4609 - acc: 0.7833\n",
      "Epoch 84/100\n",
      " - 0s - loss: 0.4632 - acc: 0.7817\n",
      "Epoch 85/100\n",
      " - 0s - loss: 0.4524 - acc: 0.7833\n",
      "Epoch 86/100\n",
      " - 0s - loss: 0.4590 - acc: 0.7801\n",
      "Epoch 87/100\n",
      " - 0s - loss: 0.4537 - acc: 0.7881\n",
      "Epoch 88/100\n",
      " - 0s - loss: 0.4583 - acc: 0.7881\n",
      "Epoch 89/100\n",
      " - 0s - loss: 0.4607 - acc: 0.7817\n",
      "Epoch 90/100\n",
      " - 0s - loss: 0.4596 - acc: 0.7929\n",
      "Epoch 91/100\n",
      " - 0s - loss: 0.4562 - acc: 0.7897\n",
      "Epoch 92/100\n",
      " - 0s - loss: 0.4664 - acc: 0.7945\n",
      "Epoch 93/100\n",
      " - 0s - loss: 0.4624 - acc: 0.7833\n",
      "Epoch 94/100\n",
      " - 0s - loss: 0.4582 - acc: 0.7769\n",
      "Epoch 95/100\n",
      " - 0s - loss: 0.4650 - acc: 0.7849\n",
      "Epoch 96/100\n",
      " - 0s - loss: 0.4621 - acc: 0.7929\n",
      "Epoch 97/100\n",
      " - 0s - loss: 0.4675 - acc: 0.7881\n",
      "Epoch 98/100\n",
      " - 0s - loss: 0.4532 - acc: 0.7897\n",
      "Epoch 99/100\n",
      " - 0s - loss: 0.4584 - acc: 0.7833\n",
      "Epoch 100/100\n",
      " - 0s - loss: 0.4647 - acc: 0.7929\n"
     ]
    }
   ],
   "source": [
    "ann = Sequential()\n",
    "\n",
    "ann.add(Dense(64, input_dim=4, kernel_initializer='normal', activation='relu'))\n",
    "ann.add(Dropout(0.2))\n",
    "\n",
    "ann.add(Dense(32, kernel_initializer='normal', activation='relu'))\n",
    "ann.add(Dropout(0.2))\n",
    "\n",
    "ann.add(Dense(16, kernel_initializer='normal', activation='relu'))\n",
    "ann.add(Dropout(0.2))\n",
    "\n",
    "ann.add(Dense(8, kernel_initializer='normal', activation='relu'))\n",
    "ann.add(Dense(1, kernel_initializer='normal', activation='sigmoid'))\n",
    "\n",
    "ann.compile(loss='binary_crossentropy', optimizer='rmsprop', metrics=['accuracy'])\n",
    "history = ann.fit(X_train, y_train, batch_size=10, epochs=100, verbose=2)"
   ]
  },
  {
   "cell_type": "code",
   "execution_count": 105,
   "metadata": {},
   "outputs": [
    {
     "name": "stdout",
     "output_type": "stream",
     "text": [
      "Test Loss: 0.4653801184434157\n",
      "Test Accuracy: 0.8413461538461539\n"
     ]
    }
   ],
   "source": [
    "score = ann.evaluate(X_test, y_test, verbose=0)\n",
    "print('Test Loss:', score[0])\n",
    "print('Test Accuracy:', score[1])"
   ]
  },
  {
   "cell_type": "code",
   "execution_count": 106,
   "metadata": {},
   "outputs": [
    {
     "data": {
      "image/png": "[encoded data removed]",
      "text/plain": [
       "<Figure size 432x288 with 1 Axes>"
      ]
     },
     "metadata": {
      "needs_background": "light"
     },
     "output_type": "display_data"
    }
   ],
   "source": [
    "y_pred = ann.predict(X_test)\n",
    "createROC(y_test, y_pred)"
   ]
  },
  {
   "cell_type": "code",
   "execution_count": null,
   "metadata": {},
   "outputs": [],
   "source": []
  }
 ],
 "metadata": {
  "kernelspec": {
   "display_name": "Python 3",
   "language": "python",
   "name": "python3"
  },
  "language_info": {
   "codemirror_mode": {
    "name": "ipython",
    "version": 3
   },
   "file_extension": ".py",
   "mimetype": "text/x-python",
   "name": "python",
   "nbconvert_exporter": "python",
   "pygments_lexer": "ipython3",
   "version": "3.7.3"
  }
 },
 "nbformat": 4,
 "nbformat_minor": 2
}
